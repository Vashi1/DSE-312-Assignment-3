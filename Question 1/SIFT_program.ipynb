{
 "cells": [
  {
   "cell_type": "code",
   "execution_count": null,
   "outputs": [],
   "source": [],
   "metadata": {
    "collapsed": false
   },
   "id": "2ddb84c4ba440962"
  },
  {
   "cell_type": "code",
   "execution_count": 14,
   "outputs": [
    {
     "ename": "ValueError",
     "evalue": "could not convert string to float: 'i'",
     "output_type": "error",
     "traceback": [
      "\u001B[0;31m---------------------------------------------------------------------------\u001B[0m",
      "\u001B[0;31mValueError\u001B[0m                                Traceback (most recent call last)",
      "Cell \u001B[0;32mIn[14], line 54\u001B[0m\n\u001B[1;32m     52\u001B[0m \u001B[38;5;28;01mfor\u001B[39;00m i \u001B[38;5;129;01min\u001B[39;00m \u001B[38;5;28mrange\u001B[39m(train_images\u001B[38;5;241m.\u001B[39mshape[\u001B[38;5;241m0\u001B[39m]):\n\u001B[1;32m     53\u001B[0m     image \u001B[38;5;241m=\u001B[39m train_images[i]\n\u001B[0;32m---> 54\u001B[0m     image \u001B[38;5;241m=\u001B[39m np\u001B[38;5;241m.\u001B[39marray(image)\u001B[38;5;241m.\u001B[39mastype(np\u001B[38;5;241m.\u001B[39mfloat32)\n\u001B[1;32m     55\u001B[0m     image \u001B[38;5;241m=\u001B[39m (image \u001B[38;5;241m*\u001B[39m \u001B[38;5;241m255\u001B[39m)\u001B[38;5;241m.\u001B[39mastype(np\u001B[38;5;241m.\u001B[39muint8)\n\u001B[1;32m     56\u001B[0m     image \u001B[38;5;241m=\u001B[39m Image\u001B[38;5;241m.\u001B[39mfromarray(image)\n",
      "\u001B[0;31mValueError\u001B[0m: could not convert string to float: 'i'"
     ]
    }
   ],
   "source": [
    "import tensorflow as tf\n",
    "import tensorflow_datasets as tfds\n",
    "from sklearn import svm\n",
    "from sklearn.model_selection import train_test_split\n",
    "from sklearn.preprocessing import StandardScaler\n",
    "from sklearn.metrics import classification_report, confusion_matrix, accuracy_score\n",
    "import matplotlib.pyplot as plt\n",
    "from PIL import Image\n",
    "from skimage import feature\n",
    "import numpy as np\n",
    "\n",
    "# Load CIFAR-10 dataset\n",
    "(ds_train, ds_test), ds_info = tfds.load('cifar10', split=['train', 'test'], shuffle_files=True, with_info=True, as_supervised=True)\n",
    "\n",
    "def normalize_img(image, label):\n",
    "    \"\"\"Normalizes images: `uint8` -> `float32`.\"\"\"\n",
    "    return tf.cast(image, tf.float32) / 255., label\n",
    "\n",
    "ds_train = ds_train.map(normalize_img, num_parallel_calls=tf.data.experimental.AUTOTUNE)\n",
    "ds_train = ds_train.cache()\n",
    "ds_train = ds_train.shuffle(ds_info.splits['train'].num_examples)\n",
    "ds_train = ds_train.batch(128)\n",
    "ds_train = ds_train.prefetch(tf.data.experimental.AUTOTUNE)\n",
    "\n",
    "ds_test = ds_test.map(normalize_img, num_parallel_calls=tf.data.experimental.AUTOTUNE)\n",
    "ds_test = ds_test.batch(128)\n",
    "\n",
    "# Convert dataset to numpy arrays\n",
    "train_images = []\n",
    "train_labels = []\n",
    "\n",
    "for data in tfds.as_dataframe(ds_train, ds_info):\n",
    "    train_images.append(data[0])\n",
    "    train_labels.append(data[1])\n",
    "\n",
    "test_images = []\n",
    "test_labels = []\n",
    "\n",
    "for data in tfds.as_dataframe(ds_test, ds_info):\n",
    "    test_images.append(data[0])\n",
    "    test_labels.append(data[1])\n",
    "\n",
    "train_images = np.array(train_images)\n",
    "train_labels = np.array(train_labels)\n",
    "test_images = np.array(test_images)\n",
    "test_labels = np.array(test_labels)\n",
    "\n",
    "# Compute SIFT features\n",
    "train_sift_features = []\n",
    "test_sift_features = []\n",
    "\n",
    "for i in range(train_images.shape[0]):\n",
    "    image = train_images[i]\n",
    "    print(type())\n",
    "    # image = np.array(image).astype(np.float32)\n",
    "    image = (image * 255).astype(np.uint8)\n",
    "    image = Image.fromarray(image)\n",
    "    sift_features = feature.local_binary_pattern(image, 8, 1, method=\"nri_uniform\")\n",
    "    train_sift_features.append(sift_features)\n",
    "\n",
    "for i in range(test_images.shape[0]):\n",
    "    image = test_images[i]\n",
    "    image = np.array(image).astype(np.float32)\n",
    "    image = (image * 255).astype(np.uint8)\n",
    "    image = Image.fromarray(image)\n",
    "    sift_features = feature.local_binary_pattern(image, 8, 1, method=\"nri_uniform\")\n",
    "    test_sift_features.append(sift_features)\n",
    "\n",
    "train_sift_features = np.array(train_sift_features)\n",
    "test_sift_features = np.array(test_sift_features)\n",
    "\n",
    "# Flatten SIFT features\n",
    "train_sift_features = train_sift_features.reshape((train_sift_features.shape[0], -1))\n",
    "test_sift_features = test_sift_features.reshape((test_sift_features.shape[0], -1))\n",
    "\n",
    "# Train SVC model\n",
    "clf = svm.SVC(kernel='linear', C=1)\n",
    "clf.fit(train_sift_features, train_labels)\n",
    "\n",
    "# Evaluate SVC model\n",
    "predictions = clf.predict(test_sift_features)\n",
    "\n",
    "print(\"Classification Report:\")\n",
    "print(classification_report(test_labels, predictions))\n",
    "\n",
    "print(\"Confusion Matrix:\")\n",
    "print(confusion_matrix(test_labels, predictions))\n",
    "\n",
    "print(\"Accuracy Score:\")\n",
    "print(accuracy_score(test_labels, predictions))"
   ],
   "metadata": {
    "collapsed": false,
    "ExecuteTime": {
     "end_time": "2023-10-26T16:36:43.884729449Z",
     "start_time": "2023-10-26T16:36:42.879851779Z"
    }
   },
   "id": "e4b58b8f01cff2a0"
  },
  {
   "cell_type": "code",
   "execution_count": null,
   "outputs": [],
   "source": [],
   "metadata": {
    "collapsed": false
   },
   "id": "39a9daaf2594e4e3"
  }
 ],
 "metadata": {
  "kernelspec": {
   "display_name": "Python 3",
   "language": "python",
   "name": "python3"
  },
  "language_info": {
   "codemirror_mode": {
    "name": "ipython",
    "version": 2
   },
   "file_extension": ".py",
   "mimetype": "text/x-python",
   "name": "python",
   "nbconvert_exporter": "python",
   "pygments_lexer": "ipython2",
   "version": "2.7.6"
  }
 },
 "nbformat": 4,
 "nbformat_minor": 5
}
