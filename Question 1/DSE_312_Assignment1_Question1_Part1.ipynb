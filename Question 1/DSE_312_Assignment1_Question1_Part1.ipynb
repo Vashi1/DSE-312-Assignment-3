{
 "cells": [
  {
   "cell_type": "markdown",
   "source": [
    "# Question 1"
   ],
   "metadata": {
    "collapsed": false
   },
   "id": "c80538b0925b4f"
  },
  {
   "cell_type": "markdown",
   "source": [
    "Importing the DataSet"
   ],
   "metadata": {
    "collapsed": false
   },
   "id": "ce9bacb29fb00eb2"
  },
  {
   "cell_type": "code",
   "execution_count": 1,
   "outputs": [],
   "source": [
    "import tensorflow_datasets as tfds\n",
    "import numpy as np\n",
    "import cv2\n",
    "from skimage.feature import hog\n",
    "from sklearn import svm\n",
    "from sklearn.metrics import accuracy_score\n",
    "from sklearn.model_selection import train_test_split\n",
    "from sklearn.metrics import accuracy_score\n",
    "from sklearn.cluster import KMeans\n",
    "from scipy.cluster.vq import vq\n"
   ],
   "metadata": {
    "collapsed": false,
    "ExecuteTime": {
     "end_time": "2023-10-25T09:49:19.133018989Z",
     "start_time": "2023-10-25T09:49:18.629492022Z"
    }
   },
   "id": "e2df8048be3f9bc3"
  },
  {
   "cell_type": "code",
   "execution_count": 2,
   "outputs": [
    {
     "name": "stderr",
     "output_type": "stream",
     "text": [
      "2023-10-25 15:19:19.256087: I tensorflow/core/util/port.cc:111] oneDNN custom operations are on. You may see slightly different numerical results due to floating-point round-off errors from different computation orders. To turn them off, set the environment variable `TF_ENABLE_ONEDNN_OPTS=0`.\n",
      "2023-10-25 15:19:19.257571: I tensorflow/tsl/cuda/cudart_stub.cc:28] Could not find cuda drivers on your machine, GPU will not be used.\n",
      "2023-10-25 15:19:19.276792: E tensorflow/compiler/xla/stream_executor/cuda/cuda_dnn.cc:9342] Unable to register cuDNN factory: Attempting to register factory for plugin cuDNN when one has already been registered\n",
      "2023-10-25 15:19:19.276817: E tensorflow/compiler/xla/stream_executor/cuda/cuda_fft.cc:609] Unable to register cuFFT factory: Attempting to register factory for plugin cuFFT when one has already been registered\n",
      "2023-10-25 15:19:19.276830: E tensorflow/compiler/xla/stream_executor/cuda/cuda_blas.cc:1518] Unable to register cuBLAS factory: Attempting to register factory for plugin cuBLAS when one has already been registered\n",
      "2023-10-25 15:19:19.280665: I tensorflow/tsl/cuda/cudart_stub.cc:28] Could not find cuda drivers on your machine, GPU will not be used.\n",
      "2023-10-25 15:19:19.280971: I tensorflow/core/platform/cpu_feature_guard.cc:182] This TensorFlow binary is optimized to use available CPU instructions in performance-critical operations.\n",
      "To enable the following instructions: AVX2 AVX_VNNI FMA, in other operations, rebuild TensorFlow with the appropriate compiler flags.\n",
      "2023-10-25 15:19:20.010783: W tensorflow/compiler/tf2tensorrt/utils/py_utils.cc:38] TF-TRT Warning: Could not find TensorRT\n"
     ]
    }
   ],
   "source": [
    "ds = tfds.load('cifar10', split=['train','test'])"
   ],
   "metadata": {
    "collapsed": false,
    "ExecuteTime": {
     "end_time": "2023-10-25T09:49:20.527297257Z",
     "start_time": "2023-10-25T09:49:19.134539676Z"
    }
   },
   "id": "1af40dc1b69f4883"
  },
  {
   "cell_type": "code",
   "execution_count": 22,
   "outputs": [],
   "source": [
    "# train_images, train_labels = tfds.as_numpy(train_ds)\n",
    "# test_images, test_labels = tfds.as_numpy(test_ds)"
   ],
   "metadata": {
    "collapsed": false,
    "ExecuteTime": {
     "end_time": "2023-10-25T08:35:56.788945543Z",
     "start_time": "2023-10-25T08:35:56.782112709Z"
    }
   },
   "id": "70d88639dc51b361"
  },
  {
   "cell_type": "markdown",
   "source": [
    "Normalizing the Image Data"
   ],
   "metadata": {
    "collapsed": false
   },
   "id": "9625cd878145e3ae"
  },
  {
   "cell_type": "code",
   "execution_count": 23,
   "outputs": [],
   "source": [
    "# X_train, X_test = train_images, test_images\n",
    "# y_train, y_test = train_labels, test_labels"
   ],
   "metadata": {
    "collapsed": false,
    "ExecuteTime": {
     "end_time": "2023-10-25T08:35:56.824432829Z",
     "start_time": "2023-10-25T08:35:56.783744942Z"
    }
   },
   "id": "105cd8f51ca19a2c"
  },
  {
   "cell_type": "markdown",
   "source": [
    "**Subpart 1**\\\n",
    "*SIFT + SVM*"
   ],
   "metadata": {
    "collapsed": false
   },
   "id": "a22ce597557e3e7d"
  },
  {
   "cell_type": "code",
   "execution_count": 4,
   "outputs": [],
   "source": [
    "def extract_sift_features(data):\n",
    "    sift = cv2.SIFT_create()\n",
    "\n",
    "    # Extract SIFT features from the dataset\n",
    "    sift_features = []\n",
    "\n",
    "    for image in ds:\n",
    "        # Convert the image to grayscale (SIFT works on grayscale images)\n",
    "        gray_image = cv2.cvtColor(image, cv2.COLOR_RGB2GRAY)\n",
    "\n",
    "        # Detect SIFT keypoints and compute descriptors\n",
    "        kp, descriptors = sift.detectAndCompute(gray_image, None)\n",
    "\n",
    "        # Store SIFT descriptors in the list\n",
    "        sift_features.append(descriptors)\n",
    "\n",
    "    return sift_features"
   ],
   "metadata": {
    "collapsed": false,
    "ExecuteTime": {
     "end_time": "2023-10-25T09:49:24.409379086Z",
     "start_time": "2023-10-25T09:49:24.407832142Z"
    }
   },
   "id": "3239e0223f42a7bd"
  },
  {
   "cell_type": "code",
   "execution_count": 26,
   "outputs": [
    {
     "name": "stderr",
     "output_type": "stream",
     "text": [
      "/home/iiserb/anaconda3/lib/python3.11/site-packages/sklearn/cluster/_kmeans.py:1416: FutureWarning: The default value of `n_init` will change from 10 to 'auto' in 1.4. Set the value of `n_init` explicitly to suppress the warning\n",
      "  super()._check_params_vs_input(X, default_n_init=10)\n"
     ]
    },
    {
     "ename": "ValueError",
     "evalue": "object arrays are not supported",
     "output_type": "error",
     "traceback": [
      "\u001B[0;31m---------------------------------------------------------------------------\u001B[0m",
      "\u001B[0;31mValueError\u001B[0m                                Traceback (most recent call last)",
      "Cell \u001B[0;32mIn[26], line 6\u001B[0m\n\u001B[1;32m      4\u001B[0m kmeans \u001B[38;5;241m=\u001B[39m KMeans(n_clusters\u001B[38;5;241m=\u001B[39mnum_clusters)\u001B[38;5;241m.\u001B[39mfit(sift_features)\n\u001B[1;32m      5\u001B[0m \u001B[38;5;66;03m# Build histograms of visual words for training data\u001B[39;00m\n\u001B[0;32m----> 6\u001B[0m train_histograms \u001B[38;5;241m=\u001B[39m build_histograms(extract_sift_features(xtr), kmeans)\n\u001B[1;32m      7\u001B[0m \u001B[38;5;66;03m# Train an SVM model\u001B[39;00m\n\u001B[1;32m      8\u001B[0m clf \u001B[38;5;241m=\u001B[39m svm\u001B[38;5;241m.\u001B[39mSVC()\n",
      "Cell \u001B[0;32mIn[25], line 4\u001B[0m, in \u001B[0;36mbuild_histograms\u001B[0;34m(X, kmeans)\u001B[0m\n\u001B[1;32m      2\u001B[0m histograms \u001B[38;5;241m=\u001B[39m []\n\u001B[1;32m      3\u001B[0m \u001B[38;5;28;01mfor\u001B[39;00m img_desc \u001B[38;5;129;01min\u001B[39;00m X:\n\u001B[0;32m----> 4\u001B[0m     words, _ \u001B[38;5;241m=\u001B[39m vq(img_desc, kmeans)\n\u001B[1;32m      5\u001B[0m     histogram, _ \u001B[38;5;241m=\u001B[39m np\u001B[38;5;241m.\u001B[39mhistogram(words, bins\u001B[38;5;241m=\u001B[39m\u001B[38;5;28mrange\u001B[39m(kmeans\u001B[38;5;241m.\u001B[39mn_clusters \u001B[38;5;241m+\u001B[39m \u001B[38;5;241m1\u001B[39m), density\u001B[38;5;241m=\u001B[39m\u001B[38;5;28;01mTrue\u001B[39;00m)\n\u001B[1;32m      6\u001B[0m     histograms\u001B[38;5;241m.\u001B[39mappend(histogram)\n",
      "File \u001B[0;32m~/anaconda3/lib/python3.11/site-packages/scipy/cluster/vq.py:202\u001B[0m, in \u001B[0;36mvq\u001B[0;34m(obs, code_book, check_finite)\u001B[0m\n\u001B[1;32m    144\u001B[0m \u001B[38;5;250m\u001B[39m\u001B[38;5;124;03m\"\"\"\u001B[39;00m\n\u001B[1;32m    145\u001B[0m \u001B[38;5;124;03mAssign codes from a code book to observations.\u001B[39;00m\n\u001B[1;32m    146\u001B[0m \n\u001B[0;32m   (...)\u001B[0m\n\u001B[1;32m    199\u001B[0m \n\u001B[1;32m    200\u001B[0m \u001B[38;5;124;03m\"\"\"\u001B[39;00m\n\u001B[1;32m    201\u001B[0m obs \u001B[38;5;241m=\u001B[39m _asarray_validated(obs, check_finite\u001B[38;5;241m=\u001B[39mcheck_finite)\n\u001B[0;32m--> 202\u001B[0m code_book \u001B[38;5;241m=\u001B[39m _asarray_validated(code_book, check_finite\u001B[38;5;241m=\u001B[39mcheck_finite)\n\u001B[1;32m    203\u001B[0m ct \u001B[38;5;241m=\u001B[39m np\u001B[38;5;241m.\u001B[39mcommon_type(obs, code_book)\n\u001B[1;32m    205\u001B[0m c_obs \u001B[38;5;241m=\u001B[39m obs\u001B[38;5;241m.\u001B[39mastype(ct, copy\u001B[38;5;241m=\u001B[39m\u001B[38;5;28;01mFalse\u001B[39;00m)\n",
      "File \u001B[0;32m~/anaconda3/lib/python3.11/site-packages/scipy/_lib/_util.py:243\u001B[0m, in \u001B[0;36m_asarray_validated\u001B[0;34m(a, check_finite, sparse_ok, objects_ok, mask_ok, as_inexact)\u001B[0m\n\u001B[1;32m    241\u001B[0m \u001B[38;5;28;01mif\u001B[39;00m \u001B[38;5;129;01mnot\u001B[39;00m objects_ok:\n\u001B[1;32m    242\u001B[0m     \u001B[38;5;28;01mif\u001B[39;00m a\u001B[38;5;241m.\u001B[39mdtype \u001B[38;5;129;01mis\u001B[39;00m np\u001B[38;5;241m.\u001B[39mdtype(\u001B[38;5;124m'\u001B[39m\u001B[38;5;124mO\u001B[39m\u001B[38;5;124m'\u001B[39m):\n\u001B[0;32m--> 243\u001B[0m         \u001B[38;5;28;01mraise\u001B[39;00m \u001B[38;5;167;01mValueError\u001B[39;00m(\u001B[38;5;124m'\u001B[39m\u001B[38;5;124mobject arrays are not supported\u001B[39m\u001B[38;5;124m'\u001B[39m)\n\u001B[1;32m    244\u001B[0m \u001B[38;5;28;01mif\u001B[39;00m as_inexact:\n\u001B[1;32m    245\u001B[0m     \u001B[38;5;28;01mif\u001B[39;00m \u001B[38;5;129;01mnot\u001B[39;00m np\u001B[38;5;241m.\u001B[39missubdtype(a\u001B[38;5;241m.\u001B[39mdtype, np\u001B[38;5;241m.\u001B[39minexact):\n",
      "\u001B[0;31mValueError\u001B[0m: object arrays are not supported"
     ]
    }
   ],
   "source": [
    "xtr, xte, ytr, yte = train_test_split(X_train, y_train, test_size=0.2, random_state=42)    \n",
    "sift_features = extract_sift_features(xtr)\n",
    "clf = svm.SVC()\n",
    "clf.fit(sift_features, ytr)\n",
    "y_pred = clf.predict(extract_sift_features(xte))\n",
    "\n",
    "# Calculate accuracy\n",
    "accuracy = accuracy_score(yte   , y_pred)\n",
    "print(f\"Accuracy: {accuracy * 100:.2f}%\")"
   ],
   "metadata": {
    "collapsed": false,
    "ExecuteTime": {
     "end_time": "2023-10-25T08:39:14.040555792Z",
     "start_time": "2023-10-25T08:35:56.824637314Z"
    }
   },
   "id": "f8ed515e6752f980"
  },
  {
   "cell_type": "code",
   "execution_count": null,
   "outputs": [],
   "source": [
    "from sklearn.metrics import classification_report\n",
    "\n",
    "print(classification_report(yte, y_pred))"
   ],
   "metadata": {
    "collapsed": false,
    "ExecuteTime": {
     "start_time": "2023-10-25T08:39:14.040461157Z"
    }
   },
   "id": "701a79bf448b07ad"
  },
  {
   "cell_type": "code",
   "execution_count": null,
   "outputs": [],
   "source": [
    "from sklearn.metrics import confusion_matrix\n",
    "import seaborn as sns\n",
    "\n",
    "conf_mat = confusion_matrix(yte, y_pred)\n",
    "sns.heatmap(conf_mat, annot = True)"
   ],
   "metadata": {
    "collapsed": false
   },
   "id": "8bfc653b51fe0e1a"
  }
 ],
 "metadata": {
  "kernelspec": {
   "display_name": "Python 3",
   "language": "python",
   "name": "python3"
  },
  "language_info": {
   "codemirror_mode": {
    "name": "ipython",
    "version": 2
   },
   "file_extension": ".py",
   "mimetype": "text/x-python",
   "name": "python",
   "nbconvert_exporter": "python",
   "pygments_lexer": "ipython2",
   "version": "2.7.6"
  }
 },
 "nbformat": 4,
 "nbformat_minor": 5
}
